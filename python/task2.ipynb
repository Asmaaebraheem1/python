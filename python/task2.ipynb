{
 "cells": [
  {
   "cell_type": "code",
   "execution_count": null,
   "id": "348c9fb1-7ad9-4edf-8583-e7109aee5d64",
   "metadata": {},
   "outputs": [],
   "source": [
    "#Write a program that takes a paragraph of text from the user and counts the frequency of each word using a **dictionary**.**Hint:**\n",
    "#* Use split() to break the paragraph into words.\n",
    "#* Use a dictionary where the key is the word and the value is the frequency of that word.\n",
    "def word_frequency(paragraph):\n",
    "    words = paragraph.split()\n",
    "    frequency = {}\n",
    "    for word in words:\n",
    "        word = word.lower()\n",
    "        word = ''.join(char for char in word if char.isalnum())\n",
    "        if word:\n",
    "            if word in frequency:\n",
    "                frequency[word] += 1\n",
    "            else:\n",
    "                frequency[word] = 1\n",
    "    return frequency\n",
    "user_input = input(\"Please enter a paragraph of text: \")\n",
    "word_count = word_frequency(user_input)\n",
    "print(\"Word Frequency:\")\n",
    "for word, count in word_count.items():\n",
    "    print(f\"{word}: {count}\")"
   ]
  },
  {
   "cell_type": "code",
   "execution_count": null,
   "id": "24ed27db-4e8a-40bf-906e-40976e1690ea",
   "metadata": {},
   "outputs": [],
   "source": [
    "#Write a program that takes a list of numbers from the user and:\n",
    "#. Finds all **unique** elements using a **set**.\n",
    "#2. Uses **list comprehension** to generate a new list containing the squares of only the **even** numbers from the original list.\n",
    "def main():\n",
    "    user_input = input(\"Please enter a list of numbers separated by spaces: \")\n",
    "    numbers = list(map(int, user_input.split()))\n",
    "    unique_numbers = set(numbers)\n",
    "    even_squares = [num ** 2 for num in numbers if num % 2 == 0]\n",
    "    print(\"Unique numbers:\", unique_numbers)\n",
    "    print(\"Squares of even numbers:\", even_squares)\n",
    "\n",
    "# Run the program\n",
    "main()"
   ]
  }
 ],
 "metadata": {
  "kernelspec": {
   "display_name": "Python 3 (ipykernel)",
   "language": "python",
   "name": "python3"
  },
  "language_info": {
   "codemirror_mode": {
    "name": "ipython",
    "version": 3
   },
   "file_extension": ".py",
   "mimetype": "text/x-python",
   "name": "python",
   "nbconvert_exporter": "python",
   "pygments_lexer": "ipython3",
   "version": "3.12.7"
  }
 },
 "nbformat": 4,
 "nbformat_minor": 5
}
