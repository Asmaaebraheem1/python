{
 "cells": [
  {
   "cell_type": "code",
   "execution_count": 1,
   "id": "29becae0-9313-4cdf-a174-dc0fa8b3060c",
   "metadata": {},
   "outputs": [
    {
     "name": "stderr",
     "output_type": "stream",
     "text": [
      "ERROR: unknown command \"istall\" - maybe you meant \"install\"\n",
      "\n"
     ]
    }
   ],
   "source": [
    "!pip istall numpy\n"
   ]
  },
  {
   "cell_type": "code",
   "execution_count": 3,
   "id": "c24f6952-5223-4e0c-b057-87ca724fa4c5",
   "metadata": {},
   "outputs": [
    {
     "name": "stdout",
     "output_type": "stream",
     "text": [
      "Requirement already satisfied: numpy in c:\\users\\milestone\\anaconda3\\lib\\site-packages (1.26.4)\n"
     ]
    }
   ],
   "source": [
    "!pip install numpy"
   ]
  },
  {
   "cell_type": "code",
   "execution_count": 5,
   "id": "1e8b7719-2753-46bb-b80c-6e70e5c3ef31",
   "metadata": {},
   "outputs": [
    {
     "name": "stdout",
     "output_type": "stream",
     "text": [
      "[0. 0. 0. 0. 0. 0. 0. 0. 0. 0.]\n"
     ]
    }
   ],
   "source": [
    "import numpy as np\n",
    "array_zeros = np.zeros(10)\n",
    "print(array_zeros)"
   ]
  },
  {
   "cell_type": "code",
   "execution_count": 9,
   "id": "7257596f-52ef-4609-b541-a548161878d7",
   "metadata": {},
   "outputs": [
    {
     "name": "stdout",
     "output_type": "stream",
     "text": [
      "[1. 1. 1. 1. 1. 1. 1. 1. 1. 1.]\n"
     ]
    }
   ],
   "source": [
    "array_ones=np.ones(10)\n",
    "print(array_ones)"
   ]
  },
  {
   "cell_type": "code",
   "execution_count": 13,
   "id": "72a0ce94-1644-4200-ae8a-9283944befe7",
   "metadata": {},
   "outputs": [
    {
     "name": "stdout",
     "output_type": "stream",
     "text": [
      "[5 5 5 5 5 5 5 5 5 5]\n"
     ]
    }
   ],
   "source": [
    "array_five=np.full(10,5)\n",
    "print(array_five)\n"
   ]
  },
  {
   "cell_type": "code",
   "execution_count": 17,
   "id": "452cd466-b0cd-4932-819b-5b879a6739ec",
   "metadata": {},
   "outputs": [
    {
     "name": "stdout",
     "output_type": "stream",
     "text": [
      "[10 11 12 13 14 15 16 17 18 19 20 21 22 23 24 25 26 27 28 29 30 31 32 33\n",
      " 34 35 36 37 38 39 40 41 42 43 44 45 46 47 48 49 50]\n"
     ]
    }
   ],
   "source": [
    "array_of_integers=np.arange(10,51)\n",
    "print(array_of_integers)"
   ]
  },
  {
   "cell_type": "code",
   "execution_count": 19,
   "id": "2710e796-8d2a-4ee6-8f14-7b4141e7b5d4",
   "metadata": {},
   "outputs": [
    {
     "name": "stdout",
     "output_type": "stream",
     "text": [
      "[10 12 14 16 18 20 22 24 26 28 30 32 34 36 38 40 42 44 46 48 50]\n"
     ]
    }
   ],
   "source": [
    "array_of_even=np.arange(10,51,2)\n",
    "print(array_of_even)"
   ]
  },
  {
   "cell_type": "code",
   "execution_count": 23,
   "id": "19629f7f-55d2-4b3e-a01e-ccd11d712db3",
   "metadata": {},
   "outputs": [
    {
     "name": "stdout",
     "output_type": "stream",
     "text": [
      "[[0 1 2]\n",
      " [3 4 5]\n",
      " [6 7 8]]\n"
     ]
    }
   ],
   "source": [
    "matrix_3=np.arange(9).reshape(3,3)\n",
    "print(matrix_3)"
   ]
  },
  {
   "cell_type": "raw",
   "id": "cbfd209a-db53-48ae-b23b-800bb965c2d8",
   "metadata": {},
   "source": [
    "identity_matrix = np.eye(3)\n",
    "print(identity_matrix)"
   ]
  },
  {
   "cell_type": "code",
   "execution_count": 28,
   "id": "f8ac936a-6873-401d-906d-daa9b1422cc4",
   "metadata": {},
   "outputs": [
    {
     "name": "stdout",
     "output_type": "stream",
     "text": [
      "0.14669402960867528\n"
     ]
    }
   ],
   "source": [
    "random_number=np.random.rand()\n",
    "print(random_number)"
   ]
  },
  {
   "cell_type": "code",
   "execution_count": 30,
   "id": "879b2e8e-c47f-4c37-b7e1-d70b8337559c",
   "metadata": {},
   "outputs": [
    {
     "name": "stdout",
     "output_type": "stream",
     "text": [
      "[ 0.28529375 -1.12377844  0.19152668 -0.78629169 -0.0312828   2.07488827\n",
      "  1.06262028 -1.12004762  0.59238343  0.41570914 -0.67000014  1.64469066\n",
      " -1.5395141   0.16302067 -0.00626619  0.25619737 -0.93533658  0.34327845\n",
      "  1.44678927  1.20910808  0.87603069 -0.19424342  0.15092439 -1.49042084\n",
      "  2.02502951]\n"
     ]
    }
   ],
   "source": [
    "random_numbers=np.random.randn(25)\n",
    "print(random_numbers)"
   ]
  },
  {
   "cell_type": "code",
   "execution_count": 32,
   "id": "d41875bf-e158-41ce-96d3-c6064184c633",
   "metadata": {},
   "outputs": [
    {
     "name": "stdout",
     "output_type": "stream",
     "text": [
      "[[0.01 0.02 0.03 0.04 0.05 0.06 0.07 0.08 0.09 0.1 ]\n",
      " [0.11 0.12 0.13 0.14 0.15 0.16 0.17 0.18 0.19 0.2 ]\n",
      " [0.21 0.22 0.23 0.24 0.25 0.26 0.27 0.28 0.29 0.3 ]\n",
      " [0.31 0.32 0.33 0.34 0.35 0.36 0.37 0.38 0.39 0.4 ]\n",
      " [0.41 0.42 0.43 0.44 0.45 0.46 0.47 0.48 0.49 0.5 ]\n",
      " [0.51 0.52 0.53 0.54 0.55 0.56 0.57 0.58 0.59 0.6 ]\n",
      " [0.61 0.62 0.63 0.64 0.65 0.66 0.67 0.68 0.69 0.7 ]\n",
      " [0.71 0.72 0.73 0.74 0.75 0.76 0.77 0.78 0.79 0.8 ]\n",
      " [0.81 0.82 0.83 0.84 0.85 0.86 0.87 0.88 0.89 0.9 ]\n",
      " [0.91 0.92 0.93 0.94 0.95 0.96 0.97 0.98 0.99 1.  ]]\n"
     ]
    }
   ],
   "source": [
    "array_10=np.arange(0.01,1.01,0.01).reshape(10,10)\n",
    "print(array_10)"
   ]
  },
  {
   "cell_type": "code",
   "execution_count": 34,
   "id": "c8fd9db5-5d0a-4401-9dce-d02de173f286",
   "metadata": {},
   "outputs": [
    {
     "name": "stdout",
     "output_type": "stream",
     "text": [
      "[0.         0.05263158 0.10526316 0.15789474 0.21052632 0.26315789\n",
      " 0.31578947 0.36842105 0.42105263 0.47368421 0.52631579 0.57894737\n",
      " 0.63157895 0.68421053 0.73684211 0.78947368 0.84210526 0.89473684\n",
      " 0.94736842 1.        ]\n"
     ]
    }
   ],
   "source": [
    "linear_space=np.linspace(0,1,20)\n",
    "print(linear_space)"
   ]
  },
  {
   "cell_type": "code",
   "execution_count": 36,
   "id": "6cde380e-f5c5-43dd-8db3-118979196265",
   "metadata": {},
   "outputs": [
    {
     "name": "stdout",
     "output_type": "stream",
     "text": [
      "[[ 1  2  3  4  5]\n",
      " [ 6  7  8  9 10]\n",
      " [11 12 13 14 15]\n",
      " [16 17 18 19 20]\n",
      " [21 22 23 24 25]]\n"
     ]
    }
   ],
   "source": [
    "array_5=np.arange(1,26).reshape(5,5)\n",
    "print(array_5)"
   ]
  },
  {
   "cell_type": "code",
   "execution_count": 42,
   "id": "bc1a0648-912b-493a-a5e8-e0d361741ae8",
   "metadata": {},
   "outputs": [
    {
     "name": "stdout",
     "output_type": "stream",
     "text": [
      "[[12 13 14 15]\n",
      " [17 18 19 20]\n",
      " [22 23 24 25]]\n"
     ]
    }
   ],
   "source": [
    "array_5=np.arange(1,26).reshape(5,5)\n",
    "subarray=array_5[2:5,1:5]\n",
    "print(subarray)"
   ]
  },
  {
   "cell_type": "code",
   "execution_count": 44,
   "id": "daa5aa06-aae0-43a2-8a38-0768b79706f2",
   "metadata": {},
   "outputs": [
    {
     "name": "stdout",
     "output_type": "stream",
     "text": [
      "20\n"
     ]
    }
   ],
   "source": [
    "number_20=subarray[1,3]\n",
    "print(number_20)"
   ]
  },
  {
   "cell_type": "code",
   "execution_count": 54,
   "id": "5697a788-3282-413a-b4ca-a296ffe03e83",
   "metadata": {},
   "outputs": [
    {
     "name": "stdout",
     "output_type": "stream",
     "text": [
      "[ 2  7 12]\n"
     ]
    }
   ],
   "source": [
    "colum1=array_5[0:3,1]\n",
    "print(colum1)"
   ]
  },
  {
   "cell_type": "code",
   "execution_count": 56,
   "id": "b4f224ea-f1be-4da9-98f5-3a0af4de4e87",
   "metadata": {},
   "outputs": [
    {
     "name": "stdout",
     "output_type": "stream",
     "text": [
      "[21 22 23 24 25]\n"
     ]
    }
   ],
   "source": [
    "last_row=array_5[-1]\n",
    "print(last_row)"
   ]
  },
  {
   "cell_type": "code",
   "execution_count": 66,
   "id": "521431ad-147c-4006-9876-b312792be41c",
   "metadata": {},
   "outputs": [
    {
     "name": "stdout",
     "output_type": "stream",
     "text": [
      "[[16 17 18 19 20]\n",
      " [21 22 23 24 25]]\n"
     ]
    }
   ],
   "source": [
    "last_2row=array_5[3:5]\n",
    "print(last_2row)"
   ]
  },
  {
   "cell_type": "code",
   "execution_count": 70,
   "id": "3c617364-a46b-4f3b-833e-2ae3496527ea",
   "metadata": {},
   "outputs": [
    {
     "name": "stdout",
     "output_type": "stream",
     "text": [
      "325\n"
     ]
    }
   ],
   "source": [
    "summation=sum(sum(array_5))\n",
    "print(summation)"
   ]
  },
  {
   "cell_type": "code",
   "execution_count": 72,
   "id": "bb8db2f3-6658-4987-9bb6-fd51b89760ac",
   "metadata": {},
   "outputs": [
    {
     "name": "stdout",
     "output_type": "stream",
     "text": [
      "7.211102550927978\n"
     ]
    }
   ],
   "source": [
    "standard=np.std(array_5)\n",
    "print(standard)"
   ]
  },
  {
   "cell_type": "code",
   "execution_count": 76,
   "id": "559fb0fe-c5de-4791-aac2-59d0df8c3941",
   "metadata": {},
   "outputs": [
    {
     "name": "stdout",
     "output_type": "stream",
     "text": [
      "[55 60 65 70 75]\n"
     ]
    }
   ],
   "source": [
    "summation_columns=sum(array_5)\n",
    "print(summation_columns)"
   ]
  },
  {
   "cell_type": "code",
   "execution_count": null,
   "id": "4b3903de-e801-446e-8082-b4c4feedfc34",
   "metadata": {},
   "outputs": [],
   "source": []
  }
 ],
 "metadata": {
  "kernelspec": {
   "display_name": "Python 3 (ipykernel)",
   "language": "python",
   "name": "python3"
  },
  "language_info": {
   "codemirror_mode": {
    "name": "ipython",
    "version": 3
   },
   "file_extension": ".py",
   "mimetype": "text/x-python",
   "name": "python",
   "nbconvert_exporter": "python",
   "pygments_lexer": "ipython3",
   "version": "3.12.7"
  }
 },
 "nbformat": 4,
 "nbformat_minor": 5
}
